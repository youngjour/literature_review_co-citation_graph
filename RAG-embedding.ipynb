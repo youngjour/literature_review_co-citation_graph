### Making the DB for Retrieval-Augmented Generation for searching researches. This code will make embeddings for DB from PDF literature files. 
